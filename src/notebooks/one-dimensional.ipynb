{
 "cells": [
  {
   "cell_type": "code",
   "execution_count": null,
   "id": "a75a14a8-5982-401f-ad3c-59023939ff65",
   "metadata": {},
   "outputs": [],
   "source": [
    "using Revise\n",
    "\n",
    "using Statistics\n",
    "using Symbolics\n",
    "using ArrayOperations\n",
    "\n",
    "import Base: getindex,\n",
    "             @propagate_inbounds"
   ]
  },
  {
   "cell_type": "markdown",
   "id": "5317f721-a0cc-4c29-af1c-e6e28c066e42",
   "metadata": {},
   "source": [
    "# Custom unary operator"
   ]
  },
  {
   "cell_type": "code",
   "execution_count": null,
   "id": "a2f3b1a3-ec3c-40cd-808a-f0e93b70ec05",
   "metadata": {},
   "outputs": [],
   "source": [
    "struct MyUn <: Ary{1} end\n",
    "\n",
    "@inline @propagate_inbounds function getindex(this::Ret{MyUn}, i)\n",
    "    x, = arguments(this)\n",
    "\n",
    "    x[i-1] ^ 2\n",
    "end"
   ]
  },
  {
   "cell_type": "code",
   "execution_count": null,
   "id": "7777872d-44bd-4221-8b05-8920afb93ba6",
   "metadata": {},
   "outputs": [],
   "source": [
    "f = MyUn()\n",
    "\n",
    "n = 32\n",
    "x = rand(n)\n",
    "\n",
    "@assert isequal(f(x)[2], x[1] ^ 2)"
   ]
  },
  {
   "cell_type": "code",
   "execution_count": null,
   "id": "8686b3ac-5d72-4d03-991b-83a74e2e07ba",
   "metadata": {},
   "outputs": [],
   "source": [
    "using BenchmarkTools\n",
    "\n",
    "i = 2\n",
    "\n",
    "@btime $(f(x))[$i]\n",
    "@btime $x[$i-1]"
   ]
  },
  {
   "cell_type": "code",
   "execution_count": null,
   "id": "c1398162-94f9-4e59-98dc-50d4dd4156c4",
   "metadata": {},
   "outputs": [],
   "source": [
    "δ⁻ = Backward{1}(-)\n",
    "δ⁺ = Forward{1}(-)\n",
    "\n",
    "@assert isequal(δ⁻(x)[3], x[3]-x[2])"
   ]
  },
  {
   "cell_type": "code",
   "execution_count": null,
   "id": "edcf135d-96cc-42bf-ae28-4939ca6d0b9b",
   "metadata": {},
   "outputs": [],
   "source": [
    "σ⁻ = Backward{1}(middle)\n",
    "σ⁺ = Forward{1}(middle)"
   ]
  },
  {
   "cell_type": "code",
   "execution_count": null,
   "id": "58d6f601-2d2e-4a02-9550-2acd8c778163",
   "metadata": {},
   "outputs": [],
   "source": [
    "σ⁺(δ⁻(f(x)))\n",
    "\n",
    "@assert isequal(δ⁻(f(x))[3], x[2] ^ 2 - x[1] ^ 2)"
   ]
  },
  {
   "cell_type": "code",
   "execution_count": null,
   "id": "73b419d0-b883-429f-a124-022d866548bd",
   "metadata": {},
   "outputs": [],
   "source": [
    "h = σ⁺(δ⁻(f(x)))"
   ]
  },
  {
   "cell_type": "code",
   "execution_count": null,
   "id": "ea1d99ef-220e-475d-bc85-bc09a2596048",
   "metadata": {},
   "outputs": [],
   "source": [
    "2h"
   ]
  },
  {
   "cell_type": "code",
   "execution_count": null,
   "id": "23bafcb2-e843-4224-a45b-93f68a826af7",
   "metadata": {},
   "outputs": [],
   "source": [
    "@syms i::Int j::Int λ::Real"
   ]
  },
  {
   "cell_type": "code",
   "execution_count": null,
   "id": "84978a91-36c4-4a74-b4a2-26cc2e790659",
   "metadata": {},
   "outputs": [],
   "source": [
    "@variables ω[1:n] γ[1:n] A[1:n] B[1:n] W[1:n]"
   ]
  },
  {
   "cell_type": "code",
   "execution_count": null,
   "id": "ff6fbd31-73cf-40a4-b29c-322dadb01bf7",
   "metadata": {},
   "outputs": [],
   "source": [
    "grad = ⊙(/, ⊙(+, ⊙(*, δ⁻(ω), B), ⊙(-, ⊙(*, ⊙(-, σ⁺(A), B), γ), σ⁻(⊙(*, δ⁺(A), γ)))), W)\n",
    "\n",
    "expr = simplify(grad[i])"
   ]
  },
  {
   "cell_type": "code",
   "execution_count": null,
   "id": "fe14e68f-c72f-4fb0-bdbd-e9f66a287075",
   "metadata": {},
   "outputs": [],
   "source": [
    "Symbolics.get_variables(expr)"
   ]
  },
  {
   "cell_type": "code",
   "execution_count": null,
   "id": "d855268c-d264-447f-82d2-6e609c4bdfbe",
   "metadata": {},
   "outputs": [],
   "source": [
    "string(expr)"
   ]
  },
  {
   "cell_type": "code",
   "execution_count": null,
   "id": "b719338f-2a4b-4643-a618-9b6bfabe3f7b",
   "metadata": {},
   "outputs": [],
   "source": [
    "B |> typeof"
   ]
  },
  {
   "cell_type": "markdown",
   "id": "1b3c9854-5ea4-4c2d-a75a-4c7586d71ec5",
   "metadata": {},
   "source": [
    "# Custom binary operator"
   ]
  },
  {
   "cell_type": "code",
   "execution_count": null,
   "id": "80c143a0-d8da-4c96-a710-e5a41ec9cf4c",
   "metadata": {},
   "outputs": [],
   "source": [
    "struct MyBin <: Primitive{Arity{2}} end\n",
    "\n",
    "@inline @propagate_inbounds function getindex(this::Ret{MyBin}, i)\n",
    "    x, y = arguments(this)\n",
    "\n",
    "    x[i] * y[i-1]\n",
    "end"
   ]
  },
  {
   "cell_type": "code",
   "execution_count": null,
   "id": "175d5b41-c590-4ecc-991f-199016d394dd",
   "metadata": {},
   "outputs": [],
   "source": [
    "#n = 3\n",
    "\n",
    "x, y = rand(n), rand(n)\n",
    "\n",
    "g = MyBin()\n",
    "\n",
    "δ⁻(g(x, y))"
   ]
  },
  {
   "cell_type": "code",
   "execution_count": null,
   "id": "af6d0b10-9596-41bf-930b-01c0c20c21f6",
   "metadata": {},
   "outputs": [],
   "source": [
    "∂₁ = ∂{Tuple{1}}()\n",
    "∂₂ = ∂{Tuple{2}}()"
   ]
  },
  {
   "cell_type": "code",
   "execution_count": null,
   "id": "0504a7e7-10bb-42c5-aa97-a9c583c6e4da",
   "metadata": {},
   "outputs": [],
   "source": [
    "# binary operator\n",
    "f = MyBin()\n",
    "\n",
    "# fix all arguments\n",
    "h = f((x, y))\n",
    "\n",
    "# fix all but first, then fix first and check that result is same\n",
    "g₁ = ∂₂(f, (y,))\n",
    "h′ = g₁((x,))\n",
    "#=\n",
    "#@assert isequal(h, h′)\n",
    "\n",
    "# fix all but second, then fix second and check that result is same\n",
    "g₂ = ∂₁(f, (x,))\n",
    "h″ = g₂((y,))\n",
    "\n",
    "@assert isequal(h, h″)\n",
    "=#"
   ]
  },
  {
   "cell_type": "code",
   "execution_count": null,
   "id": "4ca37333-6e66-4033-b85e-7d51a312745d",
   "metadata": {},
   "outputs": [],
   "source": [
    "h′"
   ]
  },
  {
   "cell_type": "code",
   "execution_count": null,
   "id": "4b7f85be-6db5-40f5-bf17-d25ddd2fda1b",
   "metadata": {},
   "outputs": [],
   "source": [
    "# account for non-locality by hand for now\n",
    "\n",
    "rng = 2:n\n",
    "\n",
    "@assert isequal(h[rng], x[rng] .* y[rng .- 1])"
   ]
  },
  {
   "cell_type": "markdown",
   "id": "9d15b1c8-ec18-4cc9-a2dc-ae6ecee86fa3",
   "metadata": {},
   "source": [
    "# Derivatives"
   ]
  },
  {
   "cell_type": "code",
   "execution_count": null,
   "id": "237425a3-08a9-4ad5-a42e-941dbfe4e5fe",
   "metadata": {},
   "outputs": [],
   "source": [
    "const ∇₁ = ∇{Tuple{1}}()\n",
    "const ∇₂ = ∇{Tuple{2}}()\n",
    "\n",
    "const ∂₁ = ∂{1}()\n",
    "const ∂₂ = ∂{2}()"
   ]
  },
  {
   "cell_type": "markdown",
   "id": "51e6d5eb-3f6f-4193-b696-fdb62adfb988",
   "metadata": {},
   "source": [
    "## First order"
   ]
  },
  {
   "cell_type": "code",
   "execution_count": null,
   "id": "bae85358-8688-4ea4-a7e7-056c63fcc0df",
   "metadata": {},
   "outputs": [],
   "source": [
    "# binary operator\n",
    "f = MyBin()\n",
    "\n",
    "d₁f = ∇₁(f)\n",
    "\n",
    "f₁ = ∂₁(f, (y,))\n",
    "df₁ = ∇₁(f₁)\n",
    "\n",
    "@assert isequal(df₁, ∂₁(d₁f, (y,)))\n",
    "\n",
    "d₂f = ∇₂(f)\n",
    "\n",
    "f₂ = ∂₂(f, (x,))\n",
    "df₂ = ∇₁(f₂)\n",
    "\n",
    "@assert isequal(df₂, ∂₂(d₂f, (x,)))"
   ]
  },
  {
   "cell_type": "markdown",
   "id": "a12a4c0a-8e75-40e0-a66b-9b7dbbb4c2c7",
   "metadata": {},
   "source": [
    "## Second order"
   ]
  },
  {
   "cell_type": "code",
   "execution_count": null,
   "id": "a1055482-1d4d-4ef3-b545-0ce7965bb5f8",
   "metadata": {},
   "outputs": [],
   "source": [
    "const ∇₁₂ = ∇{Tuple{1,2}}()"
   ]
  },
  {
   "cell_type": "code",
   "execution_count": null,
   "id": "79296c03-b248-450b-b55f-f86d53c759b1",
   "metadata": {},
   "outputs": [],
   "source": [
    "h = ∇₁₂(f)"
   ]
  },
  {
   "cell_type": "markdown",
   "id": "779473af-a0b1-4387-a51e-182cb4590a2e",
   "metadata": {},
   "source": [
    "# Support"
   ]
  },
  {
   "cell_type": "code",
   "execution_count": null,
   "id": "fe16b0b8-1409-46be-ab58-e0c11d34f777",
   "metadata": {},
   "outputs": [],
   "source": [
    "struct LocalOp <: Primitive{Arity{2}} end\n",
    "\n",
    "(::LocalOp)((x, y)::NTuple{2,AbstractVector}, i::Int) = x[i] * y[i]\n",
    "\n",
    "OperatorSupport(::Type{<:LocalOp}, ::Dim) = HasStencil()\n",
    "\n",
    "Stencil(::Type{<:LocalOp}, ::Dim) = PointWise()\n",
    "\n",
    "(::Jac{1,S,O})((_, y)::NTuple{2,AbstractVector}, i::Int) where {S,O<:LocalOp} = y[i]\n",
    "(::Jac{2,S,O})((x, _)::NTuple{2,AbstractVector}, i::Int) where {S,O<:LocalOp} = x[i]"
   ]
  },
  {
   "cell_type": "code",
   "execution_count": null,
   "id": "745ae17a-456b-4b94-ab80-32020457b6bd",
   "metadata": {},
   "outputs": [],
   "source": [
    "f = LocalOp()\n",
    "\n",
    "d₁f = ∇₁(f)\n",
    "d₂f = ∇₂(f)\n",
    "\n",
    "@assert isequal(d₁f((x, y), 2), y[2])\n",
    "@assert isequal(d₂f((x, y), 2), x[2])"
   ]
  },
  {
   "cell_type": "code",
   "execution_count": null,
   "id": "3eadab9d-f83d-43d5-b87e-bb4ede1b66f6",
   "metadata": {},
   "outputs": [],
   "source": []
  }
 ],
 "metadata": {
  "kernelspec": {
   "display_name": "Julia 1.10.4",
   "language": "julia",
   "name": "julia-1.10"
  },
  "language_info": {
   "file_extension": ".jl",
   "mimetype": "application/julia",
   "name": "julia",
   "version": "1.10.4"
  }
 },
 "nbformat": 4,
 "nbformat_minor": 5
}
