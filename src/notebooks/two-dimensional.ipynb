{
 "cells": [
  {
   "cell_type": "code",
   "execution_count": null,
   "id": "d3f58224-30fa-4125-adf6-850e9549f65f",
   "metadata": {},
   "outputs": [],
   "source": [
    "using Revise\n",
    "\n",
    "using Statistics\n",
    "using Symbolics\n",
    "using ArrayOperations\n",
    "\n",
    "import Base: getindex,\n",
    "             @propagate_inbounds"
   ]
  },
  {
   "cell_type": "code",
   "execution_count": null,
   "id": "46d5ec72-8822-4aa0-b446-5fdac5d243fa",
   "metadata": {},
   "outputs": [],
   "source": [
    "const δ⁻ = Backward{1}(-), Backward{2}(-)\n",
    "const δ⁺ = Forward{1}(-), Forward{2}(-)\n",
    "\n",
    "const σ⁻ = Backward{1}(middle), Backward{2}(middle)\n",
    "const σ⁺ = Forward{1}(middle), Forward{2}(middle);"
   ]
  },
  {
   "cell_type": "code",
   "execution_count": null,
   "id": "24f36899-5c4a-4daf-af4f-7f2c6efd253f",
   "metadata": {},
   "outputs": [],
   "source": [
    "# \\invw\n",
    "function grad(ω, γ, a, b, ʍ)\n",
    "    (δ⁻[1](ω) * b[1] + (σ⁺[1](a[1]) - b[1]) * γ - σ⁻[1](δ⁺[1](a[1]) * γ)) * ʍ[1],\n",
    "    (δ⁻[2](ω) * b[2] + (σ⁺[2](a[2]) - b[2]) * γ - σ⁻[2](δ⁺[2](a[2]) * γ)) * ʍ[2]\n",
    "end\n",
    "\n",
    "function div(ω, γ, a, b)\n",
    "    δ⁺[1](ω[1]) * a[1] + (σ⁻[1](b[1]) - a[1]) * γ[1] - σ⁺[1](δ⁻[1](b[1]) * γ[1]) +\n",
    "    δ⁺[2](ω[2]) * a[2] + (σ⁻[2](b[2]) - a[2]) * γ[2] - σ⁺[2](δ⁻[2](b[2]) * γ[2])\n",
    "end"
   ]
  },
  {
   "cell_type": "code",
   "execution_count": null,
   "id": "a337f3ed-b2fa-42fb-a4aa-f7a1ebfe3b98",
   "metadata": {},
   "outputs": [],
   "source": [
    "dims = 1, 1\n",
    "\n",
    "@variables ω[dims...] γ[dims...]\n",
    "@variables ax[dims...] ay[dims...]; a = (ax, ay)\n",
    "@variables bx[dims...] by[dims...]; b = (bx, by)\n",
    "@variables ʍx[dims...] ʍy[dims...]; ʍ = (ʍx, ʍy)"
   ]
  },
  {
   "cell_type": "code",
   "execution_count": null,
   "id": "9d86938e-ec95-4e9e-bc34-eb5da6575322",
   "metadata": {},
   "outputs": [],
   "source": [
    "qω = grad(ω, γ, a, b, ʍ)\n",
    "qγ = qω\n",
    "\n",
    "lap = div(qω, qγ, a, b)"
   ]
  },
  {
   "cell_type": "code",
   "execution_count": null,
   "id": "76f89993-3d8f-446a-a2e1-30767d85665a",
   "metadata": {},
   "outputs": [],
   "source": [
    "@syms i::Int j::Int\n",
    "\n",
    "qωx, qωy = qω\n",
    "\n",
    "string(qωx[i, j])"
   ]
  },
  {
   "cell_type": "code",
   "execution_count": null,
   "id": "d88893a0-9266-4b81-84cd-69672e639498",
   "metadata": {},
   "outputs": [],
   "source": [
    "Lij = lap[i, j]\n",
    "\n",
    "string(Lij)"
   ]
  },
  {
   "cell_type": "code",
   "execution_count": null,
   "id": "d61fa5cd-0b35-415d-bf19-9cdb3e0a8aa8",
   "metadata": {},
   "outputs": [],
   "source": [
    "Symbolics.get_variables(Lij)"
   ]
  },
  {
   "cell_type": "code",
   "execution_count": null,
   "id": "dbfba590-9034-4bb3-a213-32a0407d5202",
   "metadata": {},
   "outputs": [],
   "source": [
    "∂ωij = Differential(ω[i, j])"
   ]
  },
  {
   "cell_type": "code",
   "execution_count": null,
   "id": "a4159975-525a-4f23-b491-f7a5fb5b1d01",
   "metadata": {},
   "outputs": [],
   "source": [
    "∂Lij∂ωij = simplify(expand_derivatives(∂ωij(Lij)))\n",
    "\n",
    "string(∂Lij∂ωij)"
   ]
  },
  {
   "cell_type": "markdown",
   "id": "dd78f5ae-88ac-4b56-b1b9-0f27d24ab2ee",
   "metadata": {},
   "source": [
    "# Jacobian"
   ]
  },
  {
   "cell_type": "code",
   "execution_count": null,
   "id": "df273eca-9520-48ef-9c21-7062c9cf9098",
   "metadata": {},
   "outputs": [],
   "source": [
    "import ArrayOperations: OperatorSupport,\n",
    "                        Stencil\n",
    "\n",
    "const ∇₁ = ∇{Tuple{1}}()\n",
    "const ∇₂ = ∇{Tuple{2}}()\n",
    "const ∇₃ = ∇{Tuple{3}}()"
   ]
  },
  {
   "cell_type": "markdown",
   "id": "e683de25-5f5e-4555-a09b-3e81f29d4ad3",
   "metadata": {},
   "source": [
    "The example below illustrates how to encode all the information relative to:\n",
    "\n",
    "1. A ternary operator that is,\n",
    "2. Multilinear with respect to its first two arguments,\n",
    "3. Does not depend on the third.\n",
    "\n",
    "In addition, instead of declaring the routines\n",
    "```julia\n",
    "@inline @propagate_inbounds function getindex(this::Ret{<:Jac{1, TerOp}}, i::Int, j::Int)\n",
    "    op = operator(this)\n",
    "    _, y, _ = arguments(this)\n",
    "\n",
    "    ifelse(isequal(i, j), y[i-1], zero(y[i-1]))\n",
    "end\n",
    "```\n",
    "and\n",
    "```julia\n",
    "@inline @propagate_inbounds function getindex(this::Ret{<:Jac{2, TerOp}}, i::Int, j::Int)\n",
    "    op = operator(this)\n",
    "    x, _, _ = arguments(this)\n",
    "\n",
    "    ifelse(isequal(i-1, j), x[i], zero(x[i]))\n",
    "end\n",
    "```\n",
    "to compute the coefficients of the jacobian with respect to the first and second arguments (which are diagonal and lower diagonal, respectively), the structure is encoded using the `OperatorSupport` and `Stencil` traits.\n"
   ]
  },
  {
   "cell_type": "code",
   "execution_count": null,
   "id": "2007792c-ab48-4f37-a74a-a3ca6f1770e2",
   "metadata": {},
   "outputs": [],
   "source": [
    "struct TerOp <: Ary{3} end\n",
    "\n",
    "@inline @propagate_inbounds function getindex(this::Ret{TerOp}, i::Int)\n",
    "    op = operator(this)\n",
    "    x, y, _ = arguments(this)\n",
    "\n",
    "    x[i] * y[i-1]\n",
    "end\n",
    "\n",
    "# jacobian w.r.t. 1st argument is diagonal\n",
    "\n",
    "OperatorSupport(::Type{<:Ret{<:Jac{1,TerOp}}}) = HasStencil()\n",
    "\n",
    "Stencil(::Type{<:Ret{<:Jac{1,TerOp}}}) = Singleton{Tuple{0}}()\n",
    "\n",
    "@inline @propagate_inbounds function getindex(this::Ret{<:Jac{1, TerOp}}, ::Type{Tuple{0}}, (j,)::Tuple{Int})\n",
    "    op = operator(this)\n",
    "    _, y, _ = arguments(this)\n",
    "\n",
    "    y[j-1]\n",
    "end\n",
    "\n",
    "# jacobian w.r.t. 2nd argument is lower diagonal\n",
    "\n",
    "OperatorSupport(::Type{<:Ret{<:Jac{2,TerOp}}}) = HasStencil()\n",
    "\n",
    "Stencil(::Type{<:Ret{<:Jac{2,TerOp}}}) = Singleton{Tuple{-1}}()\n",
    "\n",
    "@inline @propagate_inbounds function getindex(this::Ret{<:Jac{2, TerOp}}, ::Type{Tuple{-1}}, (j,)::Tuple{Int})\n",
    "    op = operator(this)\n",
    "    x, _, _ = arguments(this)\n",
    "\n",
    "    x[j+1]\n",
    "end\n",
    "\n",
    "# jacobian w.r.t. 3rd argument is null\n",
    "\n",
    "OperatorSupport(::Type{<:Ret{<:Jac{3,TerOp}}}) = NullSupport()"
   ]
  },
  {
   "cell_type": "markdown",
   "id": "4a1d1348-446c-4aaa-9279-d77652dcf313",
   "metadata": {},
   "source": [
    "There is no use case for this for the time being, but one could envision define the dependences of higher-order derivatives as follows."
   ]
  },
  {
   "cell_type": "code",
   "execution_count": null,
   "id": "cb67fdf1-d7b1-43b1-86b1-c02f41aacd09",
   "metadata": {},
   "outputs": [],
   "source": [
    "OperatorSupport(::Type{<:Ret{<:Hess{1,1,TerOp}}}) = NullSupport()\n",
    "OperatorSupport(::Type{<:Ret{<:Hess{2,1,TerOp}}}) = NullSupport()\n",
    "OperatorSupport(::Type{<:Ret{<:Hess{1,2,TerOp}}}) = NullSupport()\n",
    "OperatorSupport(::Type{<:Ret{<:Hess{2,2,TerOp}}}) = NullSupport()"
   ]
  },
  {
   "cell_type": "code",
   "execution_count": null,
   "id": "41a1c861-aa05-4f9c-827a-9806f63caee1",
   "metadata": {},
   "outputs": [],
   "source": [
    "f₃ = TerOp()\n",
    "\n",
    "d₁f₃ = ∇₁(f₃)\n",
    "d₂f₃ = ∇₂(f₃)\n",
    "d₃f₃ = ∇₃(f₃)"
   ]
  },
  {
   "cell_type": "code",
   "execution_count": null,
   "id": "204e0b75-4911-4bf8-a8f7-2b4bb0ffe25d",
   "metadata": {},
   "outputs": [],
   "source": [
    "n = 32; x = rand(32); y = rand(32); z = rand(32);"
   ]
  },
  {
   "cell_type": "code",
   "execution_count": null,
   "id": "ac2735c2-f642-4db1-a5e7-23c0db07a625",
   "metadata": {},
   "outputs": [],
   "source": [
    "f₀ = f₃(x, y, z)\n",
    "\n",
    "d₁f₀ = d₁f₃(x, y, z)\n",
    "d₂f₀ = d₂f₃(x, y, z)\n",
    "d₃f₀ = d₃f₃(x, y, z)"
   ]
  },
  {
   "cell_type": "code",
   "execution_count": null,
   "id": "0e77a20d-143a-4b88-a24d-01032987cb0b",
   "metadata": {},
   "outputs": [],
   "source": [
    "i = 4\n",
    "\n",
    "@assert isequal(f₀[i], x[i] * y[i-1])\n",
    "@assert isequal(d₁f₀[i, i-1], zero(y[i-1]))\n",
    "@assert isequal(d₁f₀[i, i], y[i-1])\n",
    "@assert isequal(d₁f₀[i, i+1], zero(y[i-1]))\n",
    "@assert isequal(d₂f₀[i, i-1], x[i])\n",
    "@assert isequal(d₂f₀[i, i], zero(x[i]))\n",
    "@assert isequal(d₂f₀[i, i+1], zero(x[i]))"
   ]
  },
  {
   "cell_type": "code",
   "execution_count": null,
   "id": "cbe4cc36-f930-46d9-98d3-b098a54d174b",
   "metadata": {},
   "outputs": [],
   "source": [
    "using BenchmarkTools\n",
    "\n",
    "@btime $d₃f₀[$i, $i]\n",
    "@btime $d₂f₀[$i, $i]\n",
    "@btime $d₁f₀[$i, $i]"
   ]
  },
  {
   "cell_type": "code",
   "execution_count": null,
   "id": "8edaf4a2-0584-401d-b5e1-78a623c3a053",
   "metadata": {},
   "outputs": [],
   "source": [
    "@btime $x[$i]"
   ]
  },
  {
   "cell_type": "code",
   "execution_count": null,
   "id": "fcd2e9ba-6d38-4811-8736-b32b6f56bea7",
   "metadata": {},
   "outputs": [],
   "source": [
    "@btime $f₃($x, $y, $z)"
   ]
  },
  {
   "cell_type": "code",
   "execution_count": null,
   "id": "c7be18e1-fe6b-4c78-90d4-73bac83d58ee",
   "metadata": {},
   "outputs": [],
   "source": []
  }
 ],
 "metadata": {
  "kernelspec": {
   "display_name": "Julia 1.10.4",
   "language": "julia",
   "name": "julia-1.10"
  },
  "language_info": {
   "file_extension": ".jl",
   "mimetype": "application/julia",
   "name": "julia",
   "version": "1.10.4"
  }
 },
 "nbformat": 4,
 "nbformat_minor": 5
}
