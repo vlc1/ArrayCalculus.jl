{
 "cells": [
  {
   "cell_type": "code",
   "execution_count": 1,
   "id": "d3f58224-30fa-4125-adf6-850e9549f65f",
   "metadata": {},
   "outputs": [],
   "source": [
    "using Revise\n",
    "\n",
    "using Statistics\n",
    "using Symbolics\n",
    "using ArrayOperations\n",
    "\n",
    "import Base: getindex,\n",
    "             @propagate_inbounds"
   ]
  },
  {
   "cell_type": "code",
   "execution_count": 5,
   "id": "46d5ec72-8822-4aa0-b446-5fdac5d243fa",
   "metadata": {},
   "outputs": [],
   "source": [
    "const δ⁻ = Backward{1}(-), Backward{2}(-)\n",
    "const δ⁺ = Forward{1}(-), Forward{2}(-)\n",
    "\n",
    "const σ⁻ = Backward{1}(middle), Backward{2}(middle)\n",
    "const σ⁺ = Forward{1}(middle), Forward{2}(middle);"
   ]
  },
  {
   "cell_type": "code",
   "execution_count": 79,
   "id": "139103f0-b1d7-4320-b511-51590b163cb8",
   "metadata": {},
   "outputs": [
    {
     "data": {
      "text/plain": [
       "(1, 1)"
      ]
     },
     "execution_count": 79,
     "metadata": {},
     "output_type": "execute_result"
    }
   ],
   "source": [
    "dims = 1, 1"
   ]
  },
  {
   "cell_type": "code",
   "execution_count": 80,
   "id": "24f36899-5c4a-4daf-af4f-7f2c6efd253f",
   "metadata": {},
   "outputs": [
    {
     "data": {
      "text/plain": [
       "div (generic function with 2 methods)"
      ]
     },
     "execution_count": 80,
     "metadata": {},
     "output_type": "execute_result"
    }
   ],
   "source": [
    "# \\invw\n",
    "function grad(ω, γ, a, b, ʍ)\n",
    "    ⊙(*, ⊙(+, ⊙(*, δ⁻[1](ω), b[1]), ⊙(-, ⊙(*, ⊙(-, σ⁺[1](a[1]), b[1]), γ), σ⁻[1](⊙(*, δ⁺[1](a[1]), γ)))), ʍ[1]),\n",
    "    ⊙(*, ⊙(+, ⊙(*, δ⁻[2](ω), b[2]), ⊙(-, ⊙(*, ⊙(-, σ⁺[2](a[2]), b[2]), γ), σ⁻[2](⊙(*, δ⁺[2](a[2]), γ)))), ʍ[2])\n",
    "end\n",
    "\n",
    "function div(ω, γ, a, b)\n",
    "    ⊙(+, ⊙(+, ⊙(*, δ⁺[1](ω[1]), a[1]), ⊙(-, ⊙(*, ⊙(-, σ⁻[1](b[1]), a[1]), γ[1]), σ⁺[1](⊙(*, δ⁻[1](b[1]), γ[1])))),\n",
    "         ⊙(+, ⊙(*, δ⁺[2](ω[2]), a[2]), ⊙(-, ⊙(*, ⊙(-, σ⁻[2](b[2]), a[2]), γ[2]), σ⁺[2](⊙(*, δ⁻[2](b[2]), γ[2])))))\n",
    "end"
   ]
  },
  {
   "cell_type": "code",
   "execution_count": 81,
   "id": "a337f3ed-b2fa-42fb-a4aa-f7a1ebfe3b98",
   "metadata": {},
   "outputs": [
    {
     "data": {
      "text/plain": [
       "(ʍx[1,1], ʍy[1,1])"
      ]
     },
     "execution_count": 81,
     "metadata": {},
     "output_type": "execute_result"
    }
   ],
   "source": [
    "@variables ω[dims...] γ[dims...]\n",
    "@variables ax[dims...] ay[dims...]; a = (ax, ay)\n",
    "@variables bx[dims...] by[dims...]; b = (bx, by)\n",
    "@variables ʍx[dims...] ʍy[dims...]; ʍ = (ʍx, ʍy)"
   ]
  },
  {
   "cell_type": "code",
   "execution_count": 82,
   "id": "9d86938e-ec95-4e9e-bc34-eb5da6575322",
   "metadata": {},
   "outputs": [
    {
     "data": {
      "text/plain": [
       "(::⊙{typeof(+), Tuple{⊙{typeof(+), Tuple{⊙{typeof(*), Tuple{Ret{Forward{1, typeof(-)}, Tuple{⊙{typeof(*), Tuple{⊙{typeof(+), Tuple{⊙{typeof(*), Tuple{Ret{Backward{1, typeof(-)}, Tuple{Symbolics.Arr{Num, 2}}}, Symbolics.Arr{Num, 2}}}, ⊙{typeof(-), Tuple{⊙{typeof(*), Tuple{⊙{typeof(-), Tuple{Ret{Forward{1, typeof(middle)}, Tuple{Symbolics.Arr{Num, 2}}}, Symbolics.Arr{Num, 2}}}, Symbolics.Arr{Num, 2}}}, Ret{Backward{1, typeof(middle)}, Tuple{⊙{typeof(*), Tuple{Ret{Forward{1, typeof(-)}, Tuple{Symbolics.Arr{Num, 2}}}, Symbolics.Arr{Num, 2}}}}}}}}}, Symbolics.Arr{Num, 2}}}}}, Symbolics.Arr{Num, 2}}}, ⊙{typeof(-), Tuple{⊙{typeof(*), Tuple{⊙{typeof(-), Tuple{Ret{Backward{1, typeof(middle)}, Tuple{Symbolics.Arr{Num, 2}}}, Symbolics.Arr{Num, 2}}}, ⊙{typeof(*), Tuple{⊙{typeof(+), Tuple{⊙{typeof(*), Tuple{Ret{Backward{1, typeof(-)}, Tuple{Symbolics.Arr{Num, 2}}}, Symbolics.Arr{Num, 2}}}, ⊙{typeof(-), Tuple{⊙{typeof(*), Tuple{⊙{typeof(-), Tuple{Ret{Forward{1, typeof(middle)}, Tuple{Symbolics.Arr{Num, 2}}}, Symbolics.Arr{Num, 2}}}, Symbolics.Arr{Num, 2}}}, Ret{Backward{1, typeof(middle)}, Tuple{⊙{typeof(*), Tuple{Ret{Forward{1, typeof(-)}, Tuple{Symbolics.Arr{Num, 2}}}, Symbolics.Arr{Num, 2}}}}}}}}}, Symbolics.Arr{Num, 2}}}}}, Ret{Forward{1, typeof(middle)}, Tuple{⊙{typeof(*), Tuple{Ret{Backward{1, typeof(-)}, Tuple{Symbolics.Arr{Num, 2}}}, ⊙{typeof(*), Tuple{⊙{typeof(+), Tuple{⊙{typeof(*), Tuple{Ret{Backward{1, typeof(-)}, Tuple{Symbolics.Arr{Num, 2}}}, Symbolics.Arr{Num, 2}}}, ⊙{typeof(-), Tuple{⊙{typeof(*), Tuple{⊙{typeof(-), Tuple{Ret{Forward{1, typeof(middle)}, Tuple{Symbolics.Arr{Num, 2}}}, Symbolics.Arr{Num, 2}}}, Symbolics.Arr{Num, 2}}}, Ret{Backward{1, typeof(middle)}, Tuple{⊙{typeof(*), Tuple{Ret{Forward{1, typeof(-)}, Tuple{Symbolics.Arr{Num, 2}}}, Symbolics.Arr{Num, 2}}}}}}}}}, Symbolics.Arr{Num, 2}}}}}}}}}}}, ⊙{typeof(+), Tuple{⊙{typeof(*), Tuple{Ret{Forward{2, typeof(-)}, Tuple{⊙{typeof(*), Tuple{⊙{typeof(+), Tuple{⊙{typeof(*), Tuple{Ret{Backward{2, typeof(-)}, Tuple{Symbolics.Arr{Num, 2}}}, Symbolics.Arr{Num, 2}}}, ⊙{typeof(-), Tuple{⊙{typeof(*), Tuple{⊙{typeof(-), Tuple{Ret{Forward{2, typeof(middle)}, Tuple{Symbolics.Arr{Num, 2}}}, Symbolics.Arr{Num, 2}}}, Symbolics.Arr{Num, 2}}}, Ret{Backward{2, typeof(middle)}, Tuple{⊙{typeof(*), Tuple{Ret{Forward{2, typeof(-)}, Tuple{Symbolics.Arr{Num, 2}}}, Symbolics.Arr{Num, 2}}}}}}}}}, Symbolics.Arr{Num, 2}}}}}, Symbolics.Arr{Num, 2}}}, ⊙{typeof(-), Tuple{⊙{typeof(*), Tuple{⊙{typeof(-), Tuple{Ret{Backward{2, typeof(middle)}, Tuple{Symbolics.Arr{Num, 2}}}, Symbolics.Arr{Num, 2}}}, ⊙{typeof(*), Tuple{⊙{typeof(+), Tuple{⊙{typeof(*), Tuple{Ret{Backward{2, typeof(-)}, Tuple{Symbolics.Arr{Num, 2}}}, Symbolics.Arr{Num, 2}}}, ⊙{typeof(-), Tuple{⊙{typeof(*), Tuple{⊙{typeof(-), Tuple{Ret{Forward{2, typeof(middle)}, Tuple{Symbolics.Arr{Num, 2}}}, Symbolics.Arr{Num, 2}}}, Symbolics.Arr{Num, 2}}}, Ret{Backward{2, typeof(middle)}, Tuple{⊙{typeof(*), Tuple{Ret{Forward{2, typeof(-)}, Tuple{Symbolics.Arr{Num, 2}}}, Symbolics.Arr{Num, 2}}}}}}}}}, Symbolics.Arr{Num, 2}}}}}, Ret{Forward{2, typeof(middle)}, Tuple{⊙{typeof(*), Tuple{Ret{Backward{2, typeof(-)}, Tuple{Symbolics.Arr{Num, 2}}}, ⊙{typeof(*), Tuple{⊙{typeof(+), Tuple{⊙{typeof(*), Tuple{Ret{Backward{2, typeof(-)}, Tuple{Symbolics.Arr{Num, 2}}}, Symbolics.Arr{Num, 2}}}, ⊙{typeof(-), Tuple{⊙{typeof(*), Tuple{⊙{typeof(-), Tuple{Ret{Forward{2, typeof(middle)}, Tuple{Symbolics.Arr{Num, 2}}}, Symbolics.Arr{Num, 2}}}, Symbolics.Arr{Num, 2}}}, Ret{Backward{2, typeof(middle)}, Tuple{⊙{typeof(*), Tuple{Ret{Forward{2, typeof(-)}, Tuple{Symbolics.Arr{Num, 2}}}, Symbolics.Arr{Num, 2}}}}}}}}}, Symbolics.Arr{Num, 2}}}}}}}}}}}}}) (generic function with 1 method)"
      ]
     },
     "execution_count": 82,
     "metadata": {},
     "output_type": "execute_result"
    }
   ],
   "source": [
    "qω = grad(ω, γ, a, b, ʍ)\n",
    "qγ = qω\n",
    "\n",
    "D = div(qω, qγ, a, b)"
   ]
  },
  {
   "cell_type": "code",
   "execution_count": 83,
   "id": "76f89993-3d8f-446a-a2e1-30767d85665a",
   "metadata": {},
   "outputs": [
    {
     "data": {
      "text/plain": [
       "(i, j)"
      ]
     },
     "execution_count": 83,
     "metadata": {},
     "output_type": "execute_result"
    }
   ],
   "source": [
    "@syms i::Int j::Int"
   ]
  },
  {
   "cell_type": "code",
   "execution_count": 84,
   "id": "d88893a0-9266-4b81-84cd-69672e639498",
   "metadata": {},
   "outputs": [
    {
     "data": {
      "text/plain": [
       "\"(-(1//2)*(-ax[-1 + i, j] + ax[i, j])*γ[-1 + i, j] + ((1//2)*ax[1 + i, j] + (1//2)*ax[i, j] - bx[i, j])*γ[i, j] - (1//2)*(ax[1 + i, j] - ax[i, j])*γ[i, j] + bx[i, j]*(-ω[-1 + i, j] + ω[i, j]))*(-ax[i, j] + (1//2)*bx[-1 + i, j] + (1//2)*bx[i, j])*ʍx[i, j] - (1//2)*(-(1//2\"\u001b[93m\u001b[1m ⋯ 1879 bytes ⋯ \u001b[22m\u001b[39m\" + j])*ay[i, j] - (1//2)*(((1//2)*ay[i, 1 + j] + (1//2)*ay[i, 2 + j] - by[i, 1 + j])*γ[i, 1 + j] - (1//2)*(-ay[i, 1 + j] + ay[i, 2 + j])*γ[i, 1 + j] - (1//2)*(ay[i, 1 + j] - ay[i, j])*γ[i, j] + by[i, 1 + j]*(ω[i, 1 + j] - ω[i, j]))*(by[i, 1 + j] - by[i, j])*ʍy[i, 1 + j]\""
      ]
     },
     "execution_count": 84,
     "metadata": {},
     "output_type": "execute_result"
    }
   ],
   "source": [
    "Dij = D[i, j]\n",
    "\n",
    "string(Dij)"
   ]
  },
  {
   "cell_type": "code",
   "execution_count": 85,
   "id": "d61fa5cd-0b35-415d-bf19-9cdb3e0a8aa8",
   "metadata": {},
   "outputs": [
    {
     "data": {
      "text/plain": [
       "28-element Vector{Any}:\n",
       " ax[-1 + i, j]\n",
       " ax[i, j]\n",
       " γ[-1 + i, j]\n",
       " ax[1 + i, j]\n",
       " bx[i, j]\n",
       " γ[i, j]\n",
       " ω[-1 + i, j]\n",
       " ω[i, j]\n",
       " bx[-1 + i, j]\n",
       " ʍx[i, j]\n",
       " ax[2 + i, j]\n",
       " γ[1 + i, j]\n",
       " bx[1 + i, j]\n",
       " ⋮\n",
       " ay[i, j]\n",
       " γ[i, -1 + j]\n",
       " ay[i, 1 + j]\n",
       " by[i, j]\n",
       " ω[i, -1 + j]\n",
       " by[i, -1 + j]\n",
       " ʍy[i, j]\n",
       " ay[i, 2 + j]\n",
       " by[i, 1 + j]\n",
       " γ[i, 1 + j]\n",
       " ω[i, 1 + j]\n",
       " ʍy[i, 1 + j]"
      ]
     },
     "execution_count": 85,
     "metadata": {},
     "output_type": "execute_result"
    }
   ],
   "source": [
    "Symbolics.get_variables(Dij)"
   ]
  },
  {
   "cell_type": "code",
   "execution_count": 86,
   "id": "dbfba590-9034-4bb3-a213-32a0407d5202",
   "metadata": {},
   "outputs": [
    {
     "data": {
      "text/plain": [
       "Differential(ω[i, j])"
      ]
     },
     "execution_count": 86,
     "metadata": {},
     "output_type": "execute_result"
    }
   ],
   "source": [
    "∂ωij = Differential(ω[i, j])"
   ]
  },
  {
   "cell_type": "code",
   "execution_count": 87,
   "id": "a4159975-525a-4f23-b491-f7a5fb5b1d01",
   "metadata": {},
   "outputs": [
    {
     "data": {
      "text/plain": [
       "\"ax[i, j]*(-bx[1 + i, j]*ʍx[1 + i, j] - bx[i, j]*ʍx[i, j]) + (-ax[i, j] + (1//2)*(bx[-1 + i, j] + bx[i, j]))*bx[i, j]*ʍx[i, j] + ay[i, j]*(-by[i, 1 + j]*ʍy[i, 1 + j] - by[i, j]*ʍy[i, j]) + (-ay[i, j] + (1//2)*(by[i, -1 + j] + by[i, j]))*by[i, j]*ʍy[i, j] - (1//2)*(-bx[-1 + i, j] + bx[i, j])*bx[i, j]*ʍx[i, j] + (1//2)*(bx[1 + i, j] - bx[i, j])*bx[1 + i, j]*ʍx[1 + i, j] - (1//2)*(-by[i, -1 + j] + by[i, j])*by[i, j]*ʍy[i, j] + (1//2)*by[i, 1 + j]*(by[i, 1 + j] - by[i, j])*ʍy[i, 1 + j]\""
      ]
     },
     "execution_count": 87,
     "metadata": {},
     "output_type": "execute_result"
    }
   ],
   "source": [
    "∂Dij∂ωij = simplify(expand_derivatives(∂ωij(Dij)))\n",
    "\n",
    "string(∂Dij∂ωij)"
   ]
  },
  {
   "cell_type": "code",
   "execution_count": null,
   "id": "ff1331bc-46d9-4067-b603-76cd8dc06988",
   "metadata": {},
   "outputs": [],
   "source": []
  }
 ],
 "metadata": {
  "kernelspec": {
   "display_name": "Julia 1.10.4",
   "language": "julia",
   "name": "julia-1.10"
  },
  "language_info": {
   "file_extension": ".jl",
   "mimetype": "application/julia",
   "name": "julia",
   "version": "1.10.4"
  }
 },
 "nbformat": 4,
 "nbformat_minor": 5
}
