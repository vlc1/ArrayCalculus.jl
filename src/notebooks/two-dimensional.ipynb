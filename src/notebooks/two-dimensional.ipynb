{
 "cells": [
  {
   "cell_type": "code",
   "execution_count": null,
   "id": "d3f58224-30fa-4125-adf6-850e9549f65f",
   "metadata": {},
   "outputs": [],
   "source": [
    "using Revise\n",
    "\n",
    "using Statistics\n",
    "using Symbolics\n",
    "using ArrayOperations\n",
    "\n",
    "import Base: getindex,\n",
    "             @propagate_inbounds"
   ]
  },
  {
   "cell_type": "code",
   "execution_count": null,
   "id": "46d5ec72-8822-4aa0-b446-5fdac5d243fa",
   "metadata": {},
   "outputs": [],
   "source": [
    "const δ⁻ = Backward{1}(-), Backward{2}(-)\n",
    "const δ⁺ = Forward{1}(-), Forward{2}(-)\n",
    "\n",
    "const σ⁻ = Backward{1}(middle), Backward{2}(middle)\n",
    "const σ⁺ = Forward{1}(middle), Forward{2}(middle);"
   ]
  },
  {
   "cell_type": "code",
   "execution_count": null,
   "id": "24f36899-5c4a-4daf-af4f-7f2c6efd253f",
   "metadata": {},
   "outputs": [],
   "source": [
    "# \\invw\n",
    "function grad(ω, γ, a, b, ʍ)\n",
    "    (δ⁻[1](ω) * b[1] + (σ⁺[1](a[1]) - b[1]) * γ - σ⁻[1](δ⁺[1](a[1]) * γ)) * ʍ[1],\n",
    "    (δ⁻[2](ω) * b[2] + (σ⁺[2](a[2]) - b[2]) * γ - σ⁻[2](δ⁺[2](a[2]) * γ)) * ʍ[2]\n",
    "end\n",
    "\n",
    "function div(ω, γ, a, b)\n",
    "    δ⁺[1](ω[1]) * a[1] + (σ⁻[1](b[1]) - a[1]) * γ[1] - σ⁺[1](δ⁻[1](b[1]) * γ[1]) +\n",
    "    δ⁺[2](ω[2]) * a[2] + (σ⁻[2](b[2]) - a[2]) * γ[2] - σ⁺[2](δ⁻[2](b[2]) * γ[2])\n",
    "end"
   ]
  },
  {
   "cell_type": "code",
   "execution_count": null,
   "id": "a337f3ed-b2fa-42fb-a4aa-f7a1ebfe3b98",
   "metadata": {},
   "outputs": [],
   "source": [
    "dims = 1, 1\n",
    "\n",
    "@variables ω[dims...] γ[dims...]\n",
    "@variables ax[dims...] ay[dims...]; a = (ax, ay)\n",
    "@variables bx[dims...] by[dims...]; b = (bx, by)\n",
    "@variables ʍx[dims...] ʍy[dims...]; ʍ = (ʍx, ʍy)"
   ]
  },
  {
   "cell_type": "code",
   "execution_count": null,
   "id": "9d86938e-ec95-4e9e-bc34-eb5da6575322",
   "metadata": {},
   "outputs": [],
   "source": [
    "qω = grad(ω, γ, a, b, ʍ)\n",
    "qγ = qω\n",
    "\n",
    "lap = div(qω, qγ, a, b)"
   ]
  },
  {
   "cell_type": "code",
   "execution_count": null,
   "id": "76f89993-3d8f-446a-a2e1-30767d85665a",
   "metadata": {},
   "outputs": [],
   "source": [
    "@syms i::Int j::Int\n",
    "\n",
    "qωx, qωy = qω\n",
    "\n",
    "string(qωx[i, j])"
   ]
  },
  {
   "cell_type": "code",
   "execution_count": null,
   "id": "d88893a0-9266-4b81-84cd-69672e639498",
   "metadata": {},
   "outputs": [],
   "source": [
    "Lij = lap[i, j]\n",
    "\n",
    "string(Lij)"
   ]
  },
  {
   "cell_type": "code",
   "execution_count": null,
   "id": "d61fa5cd-0b35-415d-bf19-9cdb3e0a8aa8",
   "metadata": {},
   "outputs": [],
   "source": [
    "Symbolics.get_variables(Lij)"
   ]
  },
  {
   "cell_type": "code",
   "execution_count": null,
   "id": "dbfba590-9034-4bb3-a213-32a0407d5202",
   "metadata": {},
   "outputs": [],
   "source": [
    "∂ωij = Differential(ω[i, j])"
   ]
  },
  {
   "cell_type": "code",
   "execution_count": null,
   "id": "a4159975-525a-4f23-b491-f7a5fb5b1d01",
   "metadata": {},
   "outputs": [],
   "source": [
    "∂Lij∂ωij = simplify(expand_derivatives(∂ωij(Lij)))\n",
    "\n",
    "string(∂Lij∂ωij)"
   ]
  },
  {
   "cell_type": "code",
   "execution_count": null,
   "id": "ff1331bc-46d9-4067-b603-76cd8dc06988",
   "metadata": {},
   "outputs": [],
   "source": [
    "struct BinOp <: Ary{2} end\n",
    "      \n",
    "@inline @propagate_inbounds function getindex(this::Ret{BinOp}, i::Int)\n",
    "    op = operator(this)\n",
    "    x, y = arguments(this)\n",
    "\n",
    "    x[i] * y[i-1]\n",
    "end"
   ]
  },
  {
   "cell_type": "code",
   "execution_count": null,
   "id": "41a1c861-aa05-4f9c-827a-9806f63caee1",
   "metadata": {},
   "outputs": [],
   "source": [
    "f = BinOp()"
   ]
  },
  {
   "cell_type": "code",
   "execution_count": null,
   "id": "204e0b75-4911-4bf8-a8f7-2b4bb0ffe25d",
   "metadata": {},
   "outputs": [],
   "source": [
    "n = 32; x = rand(32); y = rand(32);"
   ]
  },
  {
   "cell_type": "code",
   "execution_count": null,
   "id": "ac2735c2-f642-4db1-a5e7-23c0db07a625",
   "metadata": {},
   "outputs": [],
   "source": [
    "f₀ = f(x, y)"
   ]
  },
  {
   "cell_type": "code",
   "execution_count": null,
   "id": "0e77a20d-143a-4b88-a24d-01032987cb0b",
   "metadata": {},
   "outputs": [],
   "source": [
    "f₀ + f₀"
   ]
  },
  {
   "cell_type": "code",
   "execution_count": null,
   "id": "52b46565-6710-45bc-87d6-9bf29f6dfc50",
   "metadata": {},
   "outputs": [],
   "source": []
  }
 ],
 "metadata": {
  "kernelspec": {
   "display_name": "Julia 1.10.4",
   "language": "julia",
   "name": "julia-1.10"
  },
  "language_info": {
   "file_extension": ".jl",
   "mimetype": "application/julia",
   "name": "julia",
   "version": "1.10.4"
  }
 },
 "nbformat": 4,
 "nbformat_minor": 5
}
