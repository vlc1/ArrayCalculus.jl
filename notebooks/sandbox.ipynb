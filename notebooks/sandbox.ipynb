{
 "cells": [
  {
   "cell_type": "code",
   "execution_count": null,
   "id": "2d8150bc-cfab-4f3c-8093-9de22636c0f9",
   "metadata": {},
   "outputs": [],
   "source": [
    "#=\n",
    "using Base.Cartesian\n",
    "\n",
    "const X = @eval @ntuple 3 k->Axis{k}();\n",
    "=#"
   ]
  },
  {
   "cell_type": "code",
   "execution_count": null,
   "id": "a75a14a8-5982-401f-ad3c-59023939ff65",
   "metadata": {},
   "outputs": [],
   "source": [
    "using Revise, ArrayOperations"
   ]
  },
  {
   "cell_type": "code",
   "execution_count": null,
   "id": "80c143a0-d8da-4c96-a710-e5a41ec9cf4c",
   "metadata": {},
   "outputs": [],
   "source": [
    "struct MyBin <: Primitive{HasArity{2}} end\n",
    "\n",
    "(::MyBin)((x, y)::NTuple{2,AbstractVector}, i::Int) = x[i] * y[i-1]"
   ]
  },
  {
   "cell_type": "code",
   "execution_count": null,
   "id": "175d5b41-c590-4ecc-991f-199016d394dd",
   "metadata": {},
   "outputs": [],
   "source": [
    "n = 2\n",
    "x, y = rand(n), rand(n)"
   ]
  },
  {
   "cell_type": "code",
   "execution_count": null,
   "id": "0504a7e7-10bb-42c5-aa97-a9c583c6e4da",
   "metadata": {},
   "outputs": [],
   "source": [
    "# binary operator\n",
    "f = MyBin()\n",
    "\n",
    "# fix all arguments\n",
    "h = f((x, y))\n",
    "\n",
    "# fix all but first, then fix first and check that result is same\n",
    "g₁ = Loose{1}(f, (y,))\n",
    "h′ = g₁((x,))\n",
    "\n",
    "@assert isequal(h, h′)\n",
    "\n",
    "# fix all but second, then fix second and check that result is same\n",
    "g₂ = Loose{2}(f, (x,))\n",
    "h″ = g₂((y,))\n",
    "\n",
    "@assert isequal(h, h″)"
   ]
  },
  {
   "cell_type": "code",
   "execution_count": null,
   "id": "4b7f85be-6db5-40f5-bf17-d25ddd2fda1b",
   "metadata": {},
   "outputs": [],
   "source": [
    "# account for non-locality by hand for now\n",
    "\n",
    "rng = 2:n\n",
    "\n",
    "@assert isequal(h[rng], x[rng] .* y[rng .- 1])"
   ]
  },
  {
   "cell_type": "code",
   "execution_count": null,
   "id": "bae85358-8688-4ea4-a7e7-056c63fcc0df",
   "metadata": {},
   "outputs": [],
   "source": [
    "# binary operator\n",
    "f = MyBin()\n",
    "\n",
    "d₁f = derive(∂{1}(), f)\n",
    "d₂f = derive(∂{2}(), f)\n",
    "\n",
    "f₁ = Loose{1}(f, (y,))\n",
    "df₁ = derive(f₁)\n",
    "\n",
    "@assert isequal(df₁, Loose{1}(d₁f, (y,)))\n",
    "\n",
    "f₂ = Loose{2}(f, (x,))\n",
    "df₂ = derive(f₂)\n",
    "\n",
    "@assert isequal(df₁, Loose{1}(d₁f, (y,)))"
   ]
  }
 ],
 "metadata": {
  "kernelspec": {
   "display_name": "Julia 1.10.4",
   "language": "julia",
   "name": "julia-1.10"
  },
  "language_info": {
   "file_extension": ".jl",
   "mimetype": "application/julia",
   "name": "julia",
   "version": "1.10.4"
  }
 },
 "nbformat": 4,
 "nbformat_minor": 5
}
