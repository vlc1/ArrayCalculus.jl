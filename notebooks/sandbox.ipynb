{
 "cells": [
  {
   "cell_type": "code",
   "execution_count": null,
   "id": "2d8150bc-cfab-4f3c-8093-9de22636c0f9",
   "metadata": {},
   "outputs": [],
   "source": [
    "#=\n",
    "using Base.Cartesian\n",
    "\n",
    "const X = @eval @ntuple 3 k->Axis{k}();\n",
    "=#"
   ]
  },
  {
   "cell_type": "code",
   "execution_count": null,
   "id": "a75a14a8-5982-401f-ad3c-59023939ff65",
   "metadata": {},
   "outputs": [],
   "source": [
    "using Revise, ArrayOperations"
   ]
  },
  {
   "cell_type": "code",
   "execution_count": null,
   "id": "80c143a0-d8da-4c96-a710-e5a41ec9cf4c",
   "metadata": {},
   "outputs": [],
   "source": [
    "struct MyBin <: Primitive{Arity{2}} end\n",
    "\n",
    "(::MyBin)((x, y)::NTuple{2,AbstractVector}, i::Int) = x[i] * y[i-1]"
   ]
  },
  {
   "cell_type": "code",
   "execution_count": null,
   "id": "175d5b41-c590-4ecc-991f-199016d394dd",
   "metadata": {},
   "outputs": [],
   "source": [
    "n = 2\n",
    "x, y = rand(n), rand(n)"
   ]
  },
  {
   "cell_type": "code",
   "execution_count": null,
   "id": "0504a7e7-10bb-42c5-aa97-a9c583c6e4da",
   "metadata": {},
   "outputs": [],
   "source": [
    "# binary operator\n",
    "f = MyBin()\n",
    "\n",
    "# fix all arguments\n",
    "h = f((x, y))\n",
    "\n",
    "# fix all but first, then fix first and check that result is same\n",
    "g₁ = Loose{1}(f, (y,))\n",
    "h′ = g₁((x,))\n",
    "\n",
    "@assert isequal(h, h′)\n",
    "\n",
    "# fix all but second, then fix second and check that result is same\n",
    "g₂ = Loose{2}(f, (x,))\n",
    "h″ = g₂((y,))\n",
    "\n",
    "@assert isequal(h, h″)"
   ]
  },
  {
   "cell_type": "code",
   "execution_count": null,
   "id": "4b7f85be-6db5-40f5-bf17-d25ddd2fda1b",
   "metadata": {},
   "outputs": [],
   "source": [
    "# account for non-locality by hand for now\n",
    "\n",
    "rng = 2:n\n",
    "\n",
    "@assert isequal(h[rng], x[rng] .* y[rng .- 1])"
   ]
  },
  {
   "cell_type": "markdown",
   "id": "9d15b1c8-ec18-4cc9-a2dc-ae6ecee86fa3",
   "metadata": {},
   "source": [
    "# Derivatives"
   ]
  },
  {
   "cell_type": "code",
   "execution_count": null,
   "id": "237425a3-08a9-4ad5-a42e-941dbfe4e5fe",
   "metadata": {},
   "outputs": [],
   "source": [
    "const ∇₁ = ∇{Tuple{1}}()\n",
    "const ∇₂ = ∇{Tuple{2}}()\n",
    "\n",
    "const ∂₁ = ∂{1}()\n",
    "const ∂₂ = ∂{2}()"
   ]
  },
  {
   "cell_type": "markdown",
   "id": "51e6d5eb-3f6f-4193-b696-fdb62adfb988",
   "metadata": {},
   "source": [
    "## First order"
   ]
  },
  {
   "cell_type": "code",
   "execution_count": null,
   "id": "bae85358-8688-4ea4-a7e7-056c63fcc0df",
   "metadata": {},
   "outputs": [],
   "source": [
    "# binary operator\n",
    "f = MyBin()\n",
    "\n",
    "d₁f = ∇₁(f)\n",
    "\n",
    "f₁ = ∂₁(f, (y,))\n",
    "df₁ = ∇₁(f₁)\n",
    "\n",
    "@assert isequal(df₁, ∂₁(d₁f, (y,)))\n",
    "\n",
    "d₂f = ∇₂(f)\n",
    "\n",
    "f₂ = ∂₂(f, (x,))\n",
    "df₂ = ∇₁(f₂)\n",
    "\n",
    "@assert isequal(df₂, ∂₂(d₂f, (x,)))"
   ]
  },
  {
   "cell_type": "markdown",
   "id": "a12a4c0a-8e75-40e0-a66b-9b7dbbb4c2c7",
   "metadata": {},
   "source": [
    "## Second order"
   ]
  },
  {
   "cell_type": "code",
   "execution_count": null,
   "id": "a1055482-1d4d-4ef3-b545-0ce7965bb5f8",
   "metadata": {},
   "outputs": [],
   "source": [
    "const ∇₁₂ = ∇{Tuple{1,2}}()"
   ]
  },
  {
   "cell_type": "code",
   "execution_count": null,
   "id": "79296c03-b248-450b-b55f-f86d53c759b1",
   "metadata": {},
   "outputs": [],
   "source": [
    "h = ∇₁₂(f)"
   ]
  },
  {
   "cell_type": "markdown",
   "id": "779473af-a0b1-4387-a51e-182cb4590a2e",
   "metadata": {},
   "source": [
    "# Support"
   ]
  },
  {
   "cell_type": "code",
   "execution_count": null,
   "id": "fe16b0b8-1409-46be-ab58-e0c11d34f777",
   "metadata": {},
   "outputs": [],
   "source": [
    "struct LocalOp <: Primitive{Arity{2}} end\n",
    "\n",
    "(::LocalOp)((x, y)::NTuple{2,AbstractVector}, i::Int) = x[i] * y[i]\n",
    "\n",
    "OperatorSupport(::Type{<:LocalOp}, ::Dim) = HasStencil()\n",
    "\n",
    "Stencil(::Type{<:LocalOp}, ::Dim) = PointWise()\n",
    "\n",
    "(::Jac{1,S,O})((_, y)::NTuple{2,AbstractVector}, i::Int) where {S,O<:LocalOp} = y[i]\n",
    "(::Jac{2,S,O})((x, _)::NTuple{2,AbstractVector}, i::Int) where {S,O<:LocalOp} = x[i]"
   ]
  },
  {
   "cell_type": "code",
   "execution_count": null,
   "id": "745ae17a-456b-4b94-ab80-32020457b6bd",
   "metadata": {},
   "outputs": [],
   "source": [
    "f = LocalOp()\n",
    "\n",
    "d₁f = ∇₁(f)\n",
    "d₂f = ∇₂(f)\n",
    "\n",
    "@assert isequal(d₁f((x, y), 2), y[2])\n",
    "@assert isequal(d₂f((x, y), 2), x[2])"
   ]
  },
  {
   "cell_type": "code",
   "execution_count": null,
   "id": "3eadab9d-f83d-43d5-b87e-bb4ede1b66f6",
   "metadata": {},
   "outputs": [],
   "source": []
  }
 ],
 "metadata": {
  "kernelspec": {
   "display_name": "Julia 1.10.4",
   "language": "julia",
   "name": "julia-1.10"
  },
  "language_info": {
   "file_extension": ".jl",
   "mimetype": "application/julia",
   "name": "julia",
   "version": "1.10.4"
  }
 },
 "nbformat": 4,
 "nbformat_minor": 5
}
